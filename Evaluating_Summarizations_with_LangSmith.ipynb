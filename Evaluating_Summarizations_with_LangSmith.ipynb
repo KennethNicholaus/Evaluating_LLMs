{
 "cells": [
  {
   "cell_type": "markdown",
   "id": "0",
   "metadata": {
    "id": "6c2f8fcc-0d7f-422b-8d23-6e2e70a7c4a5"
   },
   "source": [
    "<h2>Evaluating Summarizations with LangSmith using Embedding Distance</h2>\n",
    "\n",
    "We will use embedding distance and LangSmith to verify which model produces summaries more similar to the reference ones.\n",
    "\n",
    "We will continue using the same dataset and models as in the example with ROUGE. That is, a dataset containing CNN news articles and their human-created summaries, which will be taken as the reference. Additionally, we have two T5 models, with one of them fine-tuned specifically for generating summaries.\n",
    "\n",
    "If you want to run this notebook, you will need to have API keys from OpenAI, HuggingFace, and LangChain."
   ]
  },
  {
   "cell_type": "markdown",
   "id": "1",
   "metadata": {
    "colab": {
     "base_uri": "https://localhost:8080/"
    },
    "id": "a1a5ae21-8eaf-431c-bb2f-22a8dc8b7e47",
    "outputId": "5d876b1f-f502-4c34-846c-6199b1e92af7"
   },
   "source": [
    "#Loading Necessary Libraries\n",
    "!pip install -q langchain==0.1.7\n",
    "!pip install -q langchain-openai==0.0.6\n",
    "!pip install -q langchainhub==0.1.14\n",
    "!pip install -q datasets==2.17.0\n",
    "!pip install -q huggingface-hub==0.20.3"
   ]
  },
  {
   "cell_type": "code",
   "execution_count": null,
   "id": "2",
   "metadata": {
    "colab": {
     "base_uri": "https://localhost:8080/"
    },
    "id": "6db4887a-a214-49bc-9bb6-0ae59c1092ec",
    "outputId": "dd6b9413-dfa6-4c0b-9098-ed4506b2eea6"
   },
   "outputs": [],
   "source": [
    "#You need a LangChain API Key.\n",
    "from getpass import getpass\n",
    "import os\n",
    "if not 'LANGCHAIN_API_KEY' in os.environ:\n",
    "  os.environ[\"LANGCHAIN_API_KEY\"] = getpass(\"LangChain API Key: \")"
   ]
  },
  {
   "cell_type": "code",
   "execution_count": null,
   "id": "3",
   "metadata": {
    "colab": {
     "base_uri": "https://localhost:8080/"
    },
    "id": "ca8e338c-45e2-42d1-94f2-64b70cc4b529",
    "outputId": "b67b20a3-675c-4ff4-cf86-e82cd0aab175"
   },
   "outputs": [],
   "source": [
    "if not 'OPENAI_API_KEY' in os.environ:\n",
    "  os.environ[\"OPENAI_API_KEY\"] = getpass(\"OPENAI API Key: \")"
   ]
  },
  {
   "cell_type": "code",
   "execution_count": null,
   "id": "4",
   "metadata": {
    "id": "5f4adff9-1169-4173-a72b-c983dcb6160d"
   },
   "outputs": [],
   "source": [
    "os.environ[\"LANGCHAIN_TRACING_V2\"] = \"true\"\n",
    "os.environ[\"LANGCHAIN_ENDPOINT\"]=\"https://api.smith.langchain.com\"\n",
    "#os.environ[\"LANGCHAIN_PROJECT\"]=\"langsmith_yttest01\""
   ]
  },
  {
   "cell_type": "code",
   "execution_count": null,
   "id": "5",
   "metadata": {
    "id": "0189af0e-8145-407b-a32d-2f21ac0ca5ff"
   },
   "outputs": [],
   "source": [
    "#Importing Client from Langsmith\n",
    "from langsmith import Client\n",
    "client = Client()"
   ]
  },
  {
   "cell_type": "markdown",
   "id": "6",
   "metadata": {
    "id": "4e7c4be2-fdae-42cf-b1b2-9aef89081ad2"
   },
   "source": [
    "## Create Dataset\n"
   ]
  },
  {
   "cell_type": "code",
   "execution_count": null,
   "id": "7",
   "metadata": {
    "colab": {
     "base_uri": "https://localhost:8080/",
     "height": 461,
     "referenced_widgets": [
      "340b7c15869d440faa23d013831ca8ab",
      "da905abef75a4e57bfbc8f5ed0abda7c",
      "f6358124839e492bba489b6a48dddd85",
      "cafd8a40fda84eb4bc28f57f05183e83",
      "96f18c5b7fea41da8eead77539fd2deb",
      "ab0b732640f04e068ff1503bff591742",
      "69de32fdf0f941729794ed993c20c093",
      "e9e1ac9c74e84dc6aa17be536899b756",
      "b840bc292af246dc9af2654081f33662",
      "872b3c45cfc2446f8d596d18a71f4768",
      "495eafbf6ae747268cc535474d5875c1",
      "0dfc0eb98b884c53b4e8381baad8ed24",
      "fe14a405e4cb4e8f8452a5550001735f",
      "5c7a9c77f3ac4a2ab783c19e486b40ce",
      "a833ddb39072403c85e7048285749a4c",
      "1085d98381444e89933d959ff0c77484",
      "19226572df244bd2b021afaf461e43ae",
      "121fc27526404430a3ce895c5316c0a6",
      "a32988c91953436ebe9b815e5d04d1cf",
      "b4f31fa84d5842388144aa1827c705c0",
      "7e58e908db1d4ddd865da0a5294d6a55",
      "5c6abcc5db8e4926aaa7a896bada62e9",
      "4d98cafac1524a4eaf5a7b17585aa09c",
      "0104468b337f406895d9b58b31f8a345",
      "9055a9ae65b049dbbd6c67b912a4265c",
      "6a0805d042d54fc89aefce874bf78cf6",
      "2773f482a456492ba654d272fd86ba0c",
      "6c39081b33cf45e09032bbdefc29def5",
      "9868493bc1fe417aa86a7daed0190b05",
      "944fae49610e45d3843438787c7b900d",
      "805760f371fc415abef60b0f62110f0c",
      "24555db6f0e54ed0938d7f5154167d30",
      "aa4bbba35ee14177a925bb6d5b9e4102",
      "76fa304d8b44486ca274ed8eb5f6b166",
      "48dc140374fe428798a744bcc2f1f99b",
      "0c5ddf41be4e45e9ab9570f697486167",
      "6c8bfdff48fa4524ada7a3998d0cee6b",
      "7bd15d061a924d77a4fee846fbe28eb6",
      "ac22a5c577514e6892030076c8e7e0b5",
      "c75254a528014e0380e26b801ae269a4",
      "ebd6d3629bab405faef7e66967e561b2",
      "5d9c76cc3d984bd69f95a0ccd00709f3",
      "8fb2008e929746d6986676a7c9ecf67f",
      "fff14976689642ad9aea7b1970132f10",
      "6a30af4f6c91433ca5ecb44c776d1b4c",
      "3787b95679894a0c80312a07dbe58f19",
      "0091ed07b94446e6bf505fd1c2ab2932",
      "ba551aa6e35f4c13b385d703e8ffa5bd",
      "30c37b6be3024bb692e055045a078ac4",
      "9a22e4e3d1c54df2bd8e1d4ba3b657aa",
      "9df4cc6065e340a49c160f9deb559eca",
      "c9914fcbcc7243aea0b72808c58bddec",
      "8c723a2f85af4a60a279cac119697c6c",
      "4bd2852f2bd74e1fa57ce81a4cf79623",
      "e90b2886b6344f50b18e0583885ffa08",
      "c13aa3755e7a454f9d8aa2b6e8003bb0",
      "6405adf396ee4dd99c72b96666f4a8a7",
      "129d7df2fbfb496dac2b2a824bd9c46d",
      "df9fab76726c42aa89d84402fcf4ae2e",
      "d92ff189fa4940f08fdbeb6789f2d430",
      "49154c32771349eea6bb388680a0bd7b",
      "f2d56a2528cc4027bb94ea4f8c27085a",
      "9826c7ffe54c45dd9fe1f3338613fbe8",
      "a69a8c4826844dc8896093bc5b6d6e8d",
      "0ca66b60218246f3bca44bb19c0431bc",
      "b9ebd353a75a4933ae44de58ebb4648a",
      "f660539919e143d9a28f0c9f25054f1d",
      "44cdea534a70403986732ffb2eb032b4",
      "b0429bd64e8a4f3baa8b9be7fb57d61a",
      "a3ced56838d04dce86e9eecfea0cbb79",
      "373ca41e0f304dc0a026f6a3df820928",
      "5648e27c99504814bd5841c5fc88e29a",
      "be9d86e2908b485392eeb94a9fdf3ee8",
      "17d2c64d052e4bebbcdc13031bc894a3",
      "a487f5c50d5f47809fb08dc48aea5a02",
      "8d494a0d15bc413687db94cdb76e4056",
      "98e6981c0ea44088b90ac08a834719b3",
      "1715a6e3b225423a8e183e3709450383",
      "36d18e5fb44340e387db2877a821e276",
      "cdea6adc94db414c8d4c8851666d9a59",
      "c922a831d407490fb57f6eca5601e014",
      "caf52ccfe6394ce795dbc1d25878570f",
      "6cd061a4d1ce4e5492baf189f3551096",
      "cbab6aacb3b54647b9d5cfedc1e827b2",
      "a3d94b45127b45b4be7d43455243401d",
      "37ff5362bc91407daa32edd5bc7dc19d",
      "afc4b48e78eb4e6dbbbf314f6e2ae4d3",
      "ef632710c4fe4318ae16c94a80d07bcd",
      "4c6b241388254eff8b3ff82e736805f7",
      "0e46652ad53d4e4b9bb5b425e68cacee",
      "145a882f710d4760b07957e26c63dc83",
      "413d66a95712414b9ca9599717c9b158",
      "9598b42d10bf4e01b80d8ceeb3b5b148",
      "fc3a070a22bf44dfbdef8cd5ac8c7dfa",
      "9ba230cf1d1143658ce96e13cc68d675",
      "033208d419da4b83b09c208d60e56039",
      "39c904b692094e7a8518b1264f515b0b",
      "e98d576466f743429f11f1cfca43d4f9",
      "ac4e61a4fc43427f8961fa7a0e70156e",
      "318e402ce73242539a368a2147291c2d",
      "2d183f234537492d939b257b5b6f538d",
      "359c30a8fee14d8eb997cc098f93f74e",
      "80bf59d790264d1b8138af22d1a77f64",
      "764ada58e7ec4f2c9f444ea37fd0a73e",
      "bcfd9767ee5e449f9298e04a6d6ff3d2",
      "071da475ef9d4b81b790acd123a7c3a9",
      "6b59087d7f4c428d87c3e20702189aa1",
      "8c91e1efcfbd49b9a5241d0df7104bdd",
      "54596632047143de812d1de7bb5bc08a",
      "2f1d8b72cb914248b489d2af0b267f87"
     ]
    },
    "id": "dbc219ae-1760-4f3d-92e6-aaeb6fb7ee9f",
    "outputId": "95690d11-8192-45b4-d563-168deb3a70db"
   },
   "outputs": [],
   "source": [
    "from datasets import load_dataset\n",
    "cnn_dataset = load_dataset(\n",
    "    \"ccdv/cnn_dailymail\", version\n",
    "    =\"3.0.0\",\n",
    "    trust_remote_code=True\n",
    ")"
   ]
  },
  {
   "cell_type": "code",
   "execution_count": null,
   "id": "8",
   "metadata": {
    "id": "7684f9ef-f665-42c1-ac89-f2726f7ae0da"
   },
   "outputs": [],
   "source": [
    "def add_prefix(example):\n",
    "    return {\n",
    "        **example,\n",
    "        \"article\": f\"Summarize this news:\\n{example['article']}\"\n",
    "    }\n",
    "\n",
    "#cnn_dataset = cnn_dataset.map(add_prefix)"
   ]
  },
  {
   "cell_type": "code",
   "execution_count": null,
   "id": "9",
   "metadata": {
    "colab": {
     "base_uri": "https://localhost:8080/",
     "height": 118,
     "referenced_widgets": [
      "cc3150db9c8c4b0899f612b1f847a87a",
      "88025c8a0d9041ac891b4c271d9dc446",
      "b4759ccca13a43219754322185e7dfbb",
      "b915bbbb278040b9bf2bfe0cccbe0b04",
      "721d09493d6f47fbbfb469d1880486fa",
      "177357e36f914f88b6ed2a7b4fef1a53",
      "00f9002148fd4b82b206c06b20c9465f",
      "7d9194eba3a8441aa146e9d89f1310cb",
      "72c87238cfec4c999b917ae7865e8be5",
      "f66c1fc5ebcc40948f4c53f385f26c3d",
      "1900f4c6dbeb40eb84ed69c393732248"
     ]
    },
    "id": "3fc26871-68d9-4ab1-a9c9-b6caf241d636",
    "outputId": "fb029c2f-4738-4514-cee1-d1081a3f59c4"
   },
   "outputs": [],
   "source": [
    "#Get just a few news to test\n",
    "MAX_NEWS=10\n",
    "sample_cnn = cnn_dataset[\"test\"].select(range(MAX_NEWS)).map(add_prefix)\n",
    "\n",
    "sample_cnn"
   ]
  },
  {
   "cell_type": "markdown",
   "id": "10",
   "metadata": {
    "id": "bc0ef576-ea25-446d-a99b-354678a274ba"
   },
   "source": [
    "The dataset contains three columns: article, highlights, and id. To use LangSmith, we need to create a dataset in LangSmith format.\n",
    "\n",
    "LangSmith expects a prompt and a result. To achieve this, we will transform the article into a prompt by adding the prefix: \"Summarize this news.\" As a result, we will use the content of highlights, which represents the summaries created by humans."
   ]
  },
  {
   "cell_type": "code",
   "execution_count": null,
   "id": "11",
   "metadata": {
    "colab": {
     "base_uri": "https://localhost:8080/"
    },
    "id": "4e3cea3a-fde5-4e52-90f9-d1db4fd30bc2",
    "outputId": "fab7a6b7-5172-444d-ce8b-bca9b9242967"
   },
   "outputs": [],
   "source": [
    "print(sample_cnn[0])"
   ]
  },
  {
   "cell_type": "markdown",
   "id": "12",
   "metadata": {
    "id": "1051e780-8871-4fd4-9e18-68ad8bc837f8"
   },
   "source": [
    "Now We have the Dataset with the prompt and the Reference Summary, it is time to create a Dataset in LangSmith with this information.\n",
    "### Create the Dataset in Langsmith\n",
    "\n",
    "The dataset in LangSmith is composed of an input, which is the prompt passed to the model for evaluation, and an output, which should contain what we expect the model to return."
   ]
  },
  {
   "cell_type": "code",
   "execution_count": null,
   "id": "13",
   "metadata": {
    "id": "ed9c00f6-f9ad-423f-8a8f-86fdfd30bfe0"
   },
   "outputs": [],
   "source": [
    "import datetime"
   ]
  },
  {
   "cell_type": "code",
   "execution_count": null,
   "id": "14",
   "metadata": {
    "id": "221d8e92-c2f1-499c-9e68-3abb752722c4"
   },
   "outputs": [],
   "source": [
    "import uuid\n",
    "input_key=['article']\n",
    "output_key=['highlights']\n",
    "\n",
    "NAME_DATASET=f\"Summarize_dataset_{datetime.datetime.now().strftime('%Y-%m-%d %H:%M:%S')}\""
   ]
  },
  {
   "cell_type": "code",
   "execution_count": null,
   "id": "15",
   "metadata": {
    "colab": {
     "base_uri": "https://localhost:8080/",
     "height": 49,
     "referenced_widgets": [
      "31c6867b00104a7abbcb528b63a14b19",
      "2074528c64b24bd1bbb9df7e4af00202",
      "f4c6d213e085415385d50a44ade0db97",
      "d5b55606ef3b4e15afca2a6145a298e2",
      "a7076754987a40da8b10d3bae27178ec",
      "87cdd4467e6740ba9a0a82678b82eff0",
      "63f1e2e0ddf145d19ecc1b6615c806ed",
      "e0e3a5e4e3924b49be509164e21e0589",
      "0b0869e84a5a421b8785c8e8d65d812d",
      "971a0d11f2c345f09c37e00ff768e006",
      "a5e62560a4014e3b836f6484a4fe37ae"
     ]
    },
    "id": "dcf23c41-e15d-4f63-bd27-233d6599e305",
    "outputId": "77035a9d-753b-45eb-bb6f-47eceb4b458f"
   },
   "outputs": [],
   "source": [
    "#This create the Dataset in LangSmith with the content in sample_cnn\n",
    "dataset = client.upload_dataframe(\n",
    "    df=sample_cnn,\n",
    "    input_keys=input_key,\n",
    "    output_keys=output_key,\n",
    "    name=NAME_DATASET,\n",
    "    description=\"Test Embedding distance between model summarizations\",\n",
    "    data_type=\"kv\"\n",
    ")"
   ]
  },
  {
   "cell_type": "markdown",
   "id": "16",
   "metadata": {
    "id": "ada2bd55-b6bc-467c-b481-48d46ad50441"
   },
   "source": [
    "In this image, we can see an example from the dataset once it's been registered in LangSmith.\n",
    "\n",
    "In the Input column, there is the prompt to be sent, while in the Output column, the expected output is stored.\n",
    "\n",
    "When performing the comparison, the model will be given the prompt, and the Cosine distance between its response and the one stored in the sample dataset will be calculated.\n",
    "<img src=\"https://github.com/peremartra/Large-Language-Model-Notebooks-Course/blob/main/img/Martra_Figure_4_2SDL_Dataset.jpg?raw=true\">"
   ]
  },
  {
   "cell_type": "markdown",
   "id": "17",
   "metadata": {
    "id": "8278f53f-1a94-407c-846d-05c926737704"
   },
   "source": [
    "### Recovering Models From Hugging Face\n",
    "Let's retrieve both models from HuggingFace. A base T5 model and a model that has been fine-tuned using the training portion of this same dataset to generate summaries."
   ]
  },
  {
   "cell_type": "code",
   "execution_count": null,
   "id": "18",
   "metadata": {
    "id": "0f1afd20-0bbe-473b-9ad9-ebceb3519421"
   },
   "outputs": [],
   "source": [
    "from langchain import HuggingFaceHub"
   ]
  },
  {
   "cell_type": "code",
   "execution_count": null,
   "id": "19",
   "metadata": {
    "colab": {
     "base_uri": "https://localhost:8080/"
    },
    "id": "5213c43f-85e2-4159-8a8e-684e79850bae",
    "outputId": "503b1739-1113-4c2c-f7e9-b05fc409a317"
   },
   "outputs": [],
   "source": [
    "from getpass import getpass\n",
    "hf_key = getpass(\"Hugging Face Key: \")"
   ]
  },
  {
   "cell_type": "code",
   "execution_count": null,
   "id": "20",
   "metadata": {
    "id": "12339bcc-ce70-4fae-9dcb-f2f273429ed8"
   },
   "outputs": [],
   "source": [
    "summarizer_base = HuggingFaceHub(\n",
    "    repo_id=\"t5-base\",\n",
    "    model_kwargs={\"temperature\":0, \"max_length\":180},\n",
    "    huggingfacehub_api_token=hf_key\n",
    ")"
   ]
  },
  {
   "cell_type": "code",
   "execution_count": null,
   "id": "21",
   "metadata": {
    "id": "f317d1cc-95f0-4f71-9c7f-205e42afc5df"
   },
   "outputs": [],
   "source": [
    "summarizer_finetuned = HuggingFaceHub(\n",
    "    repo_id=\"flax-community/t5-base-cnn-dm\",\n",
    "    model_kwargs={\"temperature\":0, \"max_length\":180},\n",
    "    huggingfacehub_api_token=hf_key\n",
    ")"
   ]
  },
  {
   "cell_type": "markdown",
   "id": "22",
   "metadata": {
    "id": "dc859325-3e92-4f2b-85cc-247dd84d9cf6"
   },
   "source": [
    "## Defining Evaluator\n",
    "The first step is to define an evaluator, where we specify the variables we want to evaluate. In our case, I have chosen to measure only the \"embedding_distance.\"\n",
    "\n",
    "I've left the \"string_distance\" as a comment in case you want to conduct a test with two evaluations instead of one.\n"
   ]
  },
  {
   "cell_type": "code",
   "execution_count": null,
   "id": "23",
   "metadata": {
    "colab": {
     "base_uri": "https://localhost:8080/"
    },
    "id": "d506d770-2c30-41a6-acde-283ad1b27ea9",
    "outputId": "1fb8436d-da40-48d2-901e-1faf3e645190"
   },
   "outputs": [],
   "source": [
    "from langchain.smith import run_on_dataset, RunEvalConfig\n",
    "!pip install -q rapidfuzz==3.6.1"
   ]
  },
  {
   "cell_type": "code",
   "execution_count": null,
   "id": "24",
   "metadata": {
    "id": "15e8accd-d7e1-44f8-b5d0-0215ceedb88d"
   },
   "outputs": [],
   "source": [
    "#We are using just one of the multiple evaluator avaiable on LangSmith.\n",
    "\n",
    "evaluation_config = RunEvalConfig(\n",
    "    evaluators=[\n",
    "        \"embedding_distance\",\n",
    "        #\"string_distance\"\n",
    "    ],\n",
    ")\n",
    "\n"
   ]
  },
  {
   "cell_type": "markdown",
   "id": "25",
   "metadata": {
    "id": "ee666c30-d958-45b1-802c-7034dd13b42b"
   },
   "source": [
    "## Running Evaluator\n",
    "With the same configuration, we can launch two evaluations on the same dataset. One for each of the chosen models."
   ]
  },
  {
   "cell_type": "code",
   "execution_count": null,
   "id": "26",
   "metadata": {
    "colab": {
     "base_uri": "https://localhost:8080/"
    },
    "id": "67c75c07-8351-465f-af15-a1abe17968f9",
    "outputId": "d307dc84-3101-4e0d-e3aa-e01c18526491"
   },
   "outputs": [],
   "source": [
    "project_name = f\"T5-BASE {datetime.datetime.now().strftime('%Y-%m-%d %H:%M:%S')}\"\n",
    "\n",
    "base_t5_results = run_on_dataset(\n",
    "    client=client,\n",
    "    project_name=project_name,\n",
    "    dataset_name=NAME_DATASET,\n",
    "    llm_or_chain_factory=summarizer_base,\n",
    "    evaluation=evaluation_config,\n",
    ")"
   ]
  },
  {
   "cell_type": "code",
   "execution_count": null,
   "id": "27",
   "metadata": {
    "colab": {
     "base_uri": "https://localhost:8080/"
    },
    "id": "76ede4d6-ed51-4745-b91a-d9ec6c40d436",
    "outputId": "f06cbc79-a06d-4371-abfb-7712bd55eba2"
   },
   "outputs": [],
   "source": [
    "project_name = f\"T5-FineTuned {datetime.datetime.now().strftime('%Y-%m-%d %H:%M:%S')}\"\n",
    "\n",
    "finetuned_t5_results = run_on_dataset(\n",
    "    client=client,\n",
    "    project_name=project_name,\n",
    "    dataset_name=NAME_DATASET,\n",
    "    llm_or_chain_factory=summarizer_finetuned,\n",
    "    evaluation=evaluation_config,\n",
    ")"
   ]
  },
  {
   "cell_type": "markdown",
   "id": "28",
   "metadata": {
    "id": "953211fe-b8a4-4a2c-91e3-3c6242a2f159"
   },
   "source": [
    "<img src=\"https://github.com/peremartra/Large-Language-Model-Notebooks-Course/blob/main/img/Martra_Figure_4_2SDL_Tests.jpg?raw=true\">\n",
    "\n",
    "In the image below you can see the comparision between two tests.\n",
    "<img src=\"https://github.com/peremartra/Large-Language-Model-Notebooks-Course/blob/main/img/Martra_Figure_4_2SDL_CompareTestst.jpg?raw=true\">"
   ]
  },
  {
   "cell_type": "markdown",
   "id": "29",
   "metadata": {
    "id": "Xn6jeX7u_4MR"
   },
   "source": [
    "Well, since it has been so straightforward, why don't we try to make the comparison with an OpenAI model?"
   ]
  },
  {
   "cell_type": "code",
   "execution_count": null,
   "id": "30",
   "metadata": {
    "id": "84a97ac1-623e-4d28-a78b-c807af89c918"
   },
   "outputs": [],
   "source": [
    "from langchain_openai import OpenAI\n",
    "open_aillm=OpenAI(temperature=0.0)"
   ]
  },
  {
   "cell_type": "code",
   "execution_count": null,
   "id": "31",
   "metadata": {
    "colab": {
     "base_uri": "https://localhost:8080/"
    },
    "id": "suc0G-9W94Qj",
    "outputId": "68ba227e-fdc0-4b11-d8fd-86d73ecfef07"
   },
   "outputs": [],
   "source": [
    "project_name = f\"OpenAI {datetime.datetime.now().strftime('%Y-%m-%d %H:%M:%S')}\"\n",
    "\n",
    "finetuned_t5_results = run_on_dataset(\n",
    "    client=client,\n",
    "    project_name=project_name,\n",
    "    dataset_name=NAME_DATASET,\n",
    "    llm_or_chain_factory=open_aillm,\n",
    "    evaluation=evaluation_config,\n",
    ")"
   ]
  },
  {
   "cell_type": "markdown",
   "id": "32",
   "metadata": {
    "id": "B15V_-3pBvOK"
   },
   "source": [
    "<img src=\"https://github.com/peremartra/Large-Language-Model-Notebooks-Course/blob/main/img/Martra_Figure_4_2SDL_CompareOpenAI_HF.jpg?raw=true\">"
   ]
  },
  {
   "cell_type": "markdown",
   "id": "33",
   "metadata": {
    "id": "fUeZWvLMCOBw"
   },
   "source": [
    "The experiment with the OpenAI model has yielded the best results. But, be aware! As we can see, there is a cost involved since we are using an API, and it needs to be paid for.\n",
    "\n",
    "Another crucial piece of information is that we can view performance data for the models. This data could also be useful for minimally evaluating our inference server."
   ]
  }
 ],
 "metadata": {
  "colab": {
   "include_colab_link": true,
   "provenance": []
  },
  "kernelspec": {
   "display_name": "Python 3 (ipykernel)",
   "language": "python",
   "name": "python3"
  },
  "language_info": {
   "codemirror_mode": {
    "name": "ipython",
    "version": 3
   },
   "file_extension": ".py",
   "mimetype": "text/x-python",
   "name": "python",
   "nbconvert_exporter": "python",
   "pygments_lexer": "ipython3",
   "version": "3.11.13"
  }
 },
 "nbformat": 4,
 "nbformat_minor": 5
}
